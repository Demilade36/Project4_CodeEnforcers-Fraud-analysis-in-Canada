{
 "cells": [
  {
   "cell_type": "code",
   "execution_count": 29,
   "id": "d94f4c8f-190d-416d-ac1c-1f9ef6cccb06",
   "metadata": {},
   "outputs": [],
   "source": [
    "# Import necessary libraries\n",
    "import pandas as pd\n",
    "import urllib.request\n",
    "import json\n",
    "import time\n",
    "import sqlite3"
   ]
  },
  {
   "cell_type": "code",
   "execution_count": 2,
   "id": "f9319747-02fe-481c-af7e-016f96f00eae",
   "metadata": {},
   "outputs": [
    {
     "name": "stdout",
     "output_type": "stream",
     "text": [
      "Downloaded: 10000 records\n",
      "Downloaded: 20000 records\n",
      "Downloaded: 30000 records\n",
      "Downloaded: 40000 records\n",
      "Downloaded: 50000 records\n",
      "Downloaded: 60000 records\n",
      "Downloaded: 70000 records\n",
      "Downloaded: 80000 records\n",
      "Downloaded: 90000 records\n",
      "Downloaded: 100000 records\n",
      "Downloaded: 110000 records\n",
      "Downloaded: 120000 records\n",
      "Downloaded: 130000 records\n",
      "Downloaded: 140000 records\n",
      "Downloaded: 150000 records\n",
      "Downloaded: 160000 records\n",
      "Downloaded: 170000 records\n",
      "Downloaded: 180000 records\n",
      "Downloaded: 190000 records\n",
      "Downloaded: 200000 records\n",
      "Downloaded: 210000 records\n",
      "Downloaded: 220000 records\n",
      "Downloaded: 230000 records\n",
      "Downloaded: 240000 records\n",
      "Downloaded: 250000 records\n",
      "Downloaded: 260000 records\n",
      "Downloaded: 270000 records\n",
      "Downloaded: 280000 records\n",
      "Downloaded: 290000 records\n",
      "Downloaded: 300000 records\n",
      "Downloaded: 310000 records\n",
      "Downloaded: 320000 records\n"
     ]
    }
   ],
   "source": [
    "# Configuration for getting data from the API\n",
    "resource_id = \"43c67af5-e598-4a9b-a484-fe1cb5d775b5\"  # dataset name\n",
    "batch_size = 1000  # Maximum allowed per API call\n",
    "all_records = []\n",
    "offset = 0\n",
    "#Fetching the data\n",
    "while True:\n",
    "    url = f\"https://open.canada.ca/data/en/api/3/action/datastore_search?resource_id={resource_id}&limit={batch_size}&offset={offset}\"\n",
    "    try:\n",
    "        response = urllib.request.urlopen(url)\n",
    "        data = json.loads(response.read())\n",
    "        records = data['result']['records']\n",
    "        \n",
    "        if not records:\n",
    "            break\n",
    "        \n",
    "        all_records.extend(records)\n",
    "        offset += batch_size\n",
    "        \n",
    "        # print progress every 10,000 records since it is a big data set\n",
    "        if offset % 10000 == 0:\n",
    "            print(f\"Downloaded: {offset} records\")\n",
    "        \n",
    "        time.sleep(0.2)  # delay between batches to avoid over saturating the server\n",
    "\n",
    "    except Exception as e:\n",
    "        print(f\"Error at offset {offset}: {e}\")\n",
    "        break\n"
   ]
  },
  {
   "cell_type": "code",
   "execution_count": 3,
   "id": "d0b2597e-4301-460f-b52b-f4ad2ccecd43",
   "metadata": {},
   "outputs": [],
   "source": [
    "#Convert to dataframe\n",
    "df = pd.DataFrame.from_records(all_records)"
   ]
  },
  {
   "cell_type": "code",
   "execution_count": 4,
   "id": "bb0be904-20b4-4272-819f-25892c0144e7",
   "metadata": {},
   "outputs": [
    {
     "data": {
      "text/plain": [
       "Index(['_id', 'Numero d'identification / Number ID',\n",
       "       'Date Received / Date recue', 'Complaint Received Type',\n",
       "       'Type de plainte recue', 'Country', 'Pays', 'Province/State',\n",
       "       'Province/Etat', 'Fraud and Cybercrime Thematic Categories',\n",
       "       'Categories thematiques sur la fraude et la cybercriminalite',\n",
       "       'Solicitation Method', 'Methode de sollicitation', 'Gender', 'Genre',\n",
       "       'Language of Correspondence', 'Langue de correspondance',\n",
       "       'Victim Age Range / Tranche d'age des victimes', 'Complaint Type',\n",
       "       'Type de plainte', 'Number of Victims / Nombre de victimes',\n",
       "       'Dollar Loss /pertes financieres'],\n",
       "      dtype='object')"
      ]
     },
     "execution_count": 4,
     "metadata": {},
     "output_type": "execute_result"
    }
   ],
   "source": [
    "df.columns"
   ]
  },
  {
   "cell_type": "code",
   "execution_count": 5,
   "id": "dd8be6ba-4551-46d2-a239-554716973600",
   "metadata": {},
   "outputs": [
    {
     "data": {
      "text/plain": [
       "_id                                                             int64\n",
       "Numero d'identification / Number ID                            object\n",
       "Date Received / Date recue                                     object\n",
       "Complaint Received Type                                        object\n",
       "Type de plainte recue                                          object\n",
       "Country                                                        object\n",
       "Pays                                                           object\n",
       "Province/State                                                 object\n",
       "Province/Etat                                                  object\n",
       "Fraud and Cybercrime Thematic Categories                       object\n",
       "Categories thematiques sur la fraude et la cybercriminalite    object\n",
       "Solicitation Method                                            object\n",
       "Methode de sollicitation                                       object\n",
       "Gender                                                         object\n",
       "Genre                                                          object\n",
       "Language of Correspondence                                     object\n",
       "Langue de correspondance                                       object\n",
       "Victim Age Range / Tranche d'age des victimes                  object\n",
       "Complaint Type                                                 object\n",
       "Type de plainte                                                object\n",
       "Number of Victims / Nombre de victimes                         object\n",
       "Dollar Loss /pertes financieres                                object\n",
       "dtype: object"
      ]
     },
     "execution_count": 5,
     "metadata": {},
     "output_type": "execute_result"
    }
   ],
   "source": [
    "df.dtypes"
   ]
  },
  {
   "cell_type": "code",
   "execution_count": 10,
   "id": "7a6d2112-e80d-43ed-abfd-ab5bc75de7b0",
   "metadata": {},
   "outputs": [],
   "source": [
    "# Drop unnecessary columns\n",
    "df = df.drop(columns=[\n",
    "    '_id','Type de plainte recue', 'Pays', 'Province/Etat',\n",
    "    'Categories thematiques sur la fraude et la cybercriminalite',\n",
    "    'Methode de sollicitation', 'Genre', 'Langue de correspondance', 'Type de plainte'\n",
    "])"
   ]
  },
  {
   "cell_type": "code",
   "execution_count": 24,
   "id": "a057ef1f-7739-4aa1-a4cd-f0ecc8067c37",
   "metadata": {},
   "outputs": [],
   "source": [
    "#Changing Numero d'identification / Number ID and Number of Victims / Nombre de victimes format \n",
    "df[[\"Numero d'identification / Number ID\", \"Number of Victims / Nombre de victimes\"]] = df[[\"Numero d'identification / Number ID\", \"Number of Victims / Nombre de victimes\"]].apply(pd.to_numeric).astype('int64')"
   ]
  },
  {
   "cell_type": "code",
   "execution_count": 13,
   "id": "ac99f50a-f7ad-4aea-a00b-1ba54fa10ba9",
   "metadata": {},
   "outputs": [
    {
     "data": {
      "text/plain": [
       "Numero d'identification / Number ID               int64\n",
       "Date Received / Date recue                       object\n",
       "Complaint Received Type                          object\n",
       "Country                                          object\n",
       "Province/State                                   object\n",
       "Fraud and Cybercrime Thematic Categories         object\n",
       "Solicitation Method                              object\n",
       "Gender                                           object\n",
       "Language of Correspondence                       object\n",
       "Victim Age Range / Tranche d'age des victimes    object\n",
       "Complaint Type                                   object\n",
       "Number of Victims / Nombre de victimes            int64\n",
       "Dollar Loss /pertes financieres                  object\n",
       "dtype: object"
      ]
     },
     "execution_count": 13,
     "metadata": {},
     "output_type": "execute_result"
    }
   ],
   "source": [
    "#Printing type to verify\n",
    "df.dtypes"
   ]
  },
  {
   "cell_type": "code",
   "execution_count": 16,
   "id": "19dffac8-a83d-4596-b4e8-8faebb82ede0",
   "metadata": {},
   "outputs": [],
   "source": [
    "#Changing and removing $ from Dollar Loss /pertes financieres column\n",
    "df[\"Dollar Loss /pertes financieres\"] = (\n",
    "    df['Dollar Loss /pertes financieres']\n",
    "    .replace('[$,]', '', regex=True)  # No need for backslash before $\n",
    "    .astype(float)\n",
    ")"
   ]
  },
  {
   "cell_type": "code",
   "execution_count": 18,
   "id": "7c47e12d-4ec2-431f-8acc-df8bf97c9b93",
   "metadata": {},
   "outputs": [],
   "source": [
    "# Fill NA values with 'Unknown'\n",
    "df = df.fillna('Unknown')"
   ]
  },
  {
   "cell_type": "code",
   "execution_count": 19,
   "id": "1d79fbae-e3cb-47b8-a0a4-49683956bd7e",
   "metadata": {},
   "outputs": [
    {
     "name": "stdout",
     "output_type": "stream",
     "text": [
      "<class 'pandas.core.frame.DataFrame'>\n",
      "RangeIndex: 328649 entries, 0 to 328648\n",
      "Data columns (total 13 columns):\n",
      " #   Column                                         Non-Null Count   Dtype  \n",
      "---  ------                                         --------------   -----  \n",
      " 0   Numero d'identification / Number ID            328649 non-null  int64  \n",
      " 1   Date Received / Date recue                     328649 non-null  object \n",
      " 2   Complaint Received Type                        328649 non-null  object \n",
      " 3   Country                                        328649 non-null  object \n",
      " 4   Province/State                                 328649 non-null  object \n",
      " 5   Fraud and Cybercrime Thematic Categories       328649 non-null  object \n",
      " 6   Solicitation Method                            328649 non-null  object \n",
      " 7   Gender                                         328649 non-null  object \n",
      " 8   Language of Correspondence                     328649 non-null  object \n",
      " 9   Victim Age Range / Tranche d'age des victimes  328649 non-null  object \n",
      " 10  Complaint Type                                 328649 non-null  object \n",
      " 11  Number of Victims / Nombre de victimes         328649 non-null  int64  \n",
      " 12  Dollar Loss /pertes financieres                328649 non-null  float64\n",
      "dtypes: float64(1), int64(2), object(10)\n",
      "memory usage: 32.6+ MB\n"
     ]
    }
   ],
   "source": [
    "df.info()"
   ]
  },
  {
   "cell_type": "code",
   "execution_count": 20,
   "id": "ac46b24b-3c48-48da-bd88-1f57e30f1ef8",
   "metadata": {},
   "outputs": [],
   "source": [
    "#Dropping Incomplete rows on Complaint Type\n",
    "df = df.drop(df[df['Complaint Type'] == 'Incomplete'].index)"
   ]
  },
  {
   "cell_type": "code",
   "execution_count": 21,
   "id": "5fd3e0f8-282c-4d32-8cf5-1673b0a6365d",
   "metadata": {},
   "outputs": [
    {
     "name": "stdout",
     "output_type": "stream",
     "text": [
      "<class 'pandas.core.frame.DataFrame'>\n",
      "Index: 328176 entries, 0 to 328648\n",
      "Data columns (total 13 columns):\n",
      " #   Column                                         Non-Null Count   Dtype  \n",
      "---  ------                                         --------------   -----  \n",
      " 0   Numero d'identification / Number ID            328176 non-null  int64  \n",
      " 1   Date Received / Date recue                     328176 non-null  object \n",
      " 2   Complaint Received Type                        328176 non-null  object \n",
      " 3   Country                                        328176 non-null  object \n",
      " 4   Province/State                                 328176 non-null  object \n",
      " 5   Fraud and Cybercrime Thematic Categories       328176 non-null  object \n",
      " 6   Solicitation Method                            328176 non-null  object \n",
      " 7   Gender                                         328176 non-null  object \n",
      " 8   Language of Correspondence                     328176 non-null  object \n",
      " 9   Victim Age Range / Tranche d'age des victimes  328176 non-null  object \n",
      " 10  Complaint Type                                 328176 non-null  object \n",
      " 11  Number of Victims / Nombre de victimes         328176 non-null  int64  \n",
      " 12  Dollar Loss /pertes financieres                328176 non-null  float64\n",
      "dtypes: float64(1), int64(2), object(10)\n",
      "memory usage: 35.1+ MB\n"
     ]
    }
   ],
   "source": [
    "df.info()"
   ]
  },
  {
   "cell_type": "code",
   "execution_count": 22,
   "id": "c6380db0-4abf-432c-9bda-e462e38226e3",
   "metadata": {},
   "outputs": [],
   "source": [
    "#Dropping Unknown on Complaint Type and Fraud and Cybercrime Thematic Categories\n",
    "df = df.drop(df[(df['Complaint Type'] == 'Unknown') & \n",
    "                (df['Fraud and Cybercrime Thematic Categories'] == 'Unknown')].index)"
   ]
  },
  {
   "cell_type": "code",
   "execution_count": 23,
   "id": "c67abd47-a967-4921-906c-e3b3fdc1d9f7",
   "metadata": {},
   "outputs": [
    {
     "name": "stdout",
     "output_type": "stream",
     "text": [
      "<class 'pandas.core.frame.DataFrame'>\n",
      "Index: 327560 entries, 0 to 328648\n",
      "Data columns (total 13 columns):\n",
      " #   Column                                         Non-Null Count   Dtype  \n",
      "---  ------                                         --------------   -----  \n",
      " 0   Numero d'identification / Number ID            327560 non-null  int64  \n",
      " 1   Date Received / Date recue                     327560 non-null  object \n",
      " 2   Complaint Received Type                        327560 non-null  object \n",
      " 3   Country                                        327560 non-null  object \n",
      " 4   Province/State                                 327560 non-null  object \n",
      " 5   Fraud and Cybercrime Thematic Categories       327560 non-null  object \n",
      " 6   Solicitation Method                            327560 non-null  object \n",
      " 7   Gender                                         327560 non-null  object \n",
      " 8   Language of Correspondence                     327560 non-null  object \n",
      " 9   Victim Age Range / Tranche d'age des victimes  327560 non-null  object \n",
      " 10  Complaint Type                                 327560 non-null  object \n",
      " 11  Number of Victims / Nombre de victimes         327560 non-null  int64  \n",
      " 12  Dollar Loss /pertes financieres                327560 non-null  float64\n",
      "dtypes: float64(1), int64(2), object(10)\n",
      "memory usage: 35.0+ MB\n"
     ]
    }
   ],
   "source": [
    "df.info()"
   ]
  },
  {
   "cell_type": "code",
   "execution_count": 27,
   "id": "8c32ef7c-fe35-482b-9149-f324c5a77988",
   "metadata": {},
   "outputs": [],
   "source": [
    "#Renaming columns\n",
    "df = df.rename(columns={\n",
    "    \"Numero d'identification / Number ID\": \"Number ID\",\n",
    "    \"Date Received / Date recue\": \"Date Received\",\n",
    "    \"Victim Age Range / Tranche d'age des victimes\": \"Victim Age Range\",\n",
    "    \"Number of Victims / Nombre de victimes\": \"Number of Victims\",\n",
    "    \"Dollar Loss /pertes financieres\": \"Dollar Loss\"    \n",
    "})\n"
   ]
  },
  {
   "cell_type": "code",
   "execution_count": 28,
   "id": "42778ee5-76ab-470b-b97c-e49b6f54d469",
   "metadata": {},
   "outputs": [
    {
     "name": "stdout",
     "output_type": "stream",
     "text": [
      "<class 'pandas.core.frame.DataFrame'>\n",
      "Index: 327560 entries, 0 to 328648\n",
      "Data columns (total 13 columns):\n",
      " #   Column                                    Non-Null Count   Dtype  \n",
      "---  ------                                    --------------   -----  \n",
      " 0   Number ID                                 327560 non-null  int64  \n",
      " 1   Date Received                             327560 non-null  object \n",
      " 2   Complaint Received Type                   327560 non-null  object \n",
      " 3   Country                                   327560 non-null  object \n",
      " 4   Province/State                            327560 non-null  object \n",
      " 5   Fraud and Cybercrime Thematic Categories  327560 non-null  object \n",
      " 6   Solicitation Method                       327560 non-null  object \n",
      " 7   Gender                                    327560 non-null  object \n",
      " 8   Language of Correspondence                327560 non-null  object \n",
      " 9   Victim Age Range                          327560 non-null  object \n",
      " 10  Complaint Type                            327560 non-null  object \n",
      " 11  Number of Victims                         327560 non-null  int64  \n",
      " 12  Dollar Loss                               327560 non-null  float64\n",
      "dtypes: float64(1), int64(2), object(10)\n",
      "memory usage: 35.0+ MB\n"
     ]
    }
   ],
   "source": [
    "df.info()"
   ]
  },
  {
   "cell_type": "code",
   "execution_count": 30,
   "id": "3972c62d-a609-415f-86d6-c7958fa4c487",
   "metadata": {},
   "outputs": [],
   "source": [
    "conn = sqlite3.connect('fraud_data.db')  # Creating a database file\n",
    "cursor = conn.cursor()"
   ]
  },
  {
   "cell_type": "code",
   "execution_count": 31,
   "id": "dbc97824-cfa4-4ede-9c66-924070a34429",
   "metadata": {},
   "outputs": [],
   "source": [
    "# Create table (if it does not already exist)\n",
    "cursor.execute(\"\"\"\n",
    "    CREATE TABLE IF NOT EXISTS fraud_reports (\n",
    "        Number_ID INTEGER PRIMARY KEY,\n",
    "        Date_Received TEXT,\n",
    "        Complaint_Received_Type TEXT,\n",
    "        Country TEXT,\n",
    "        Province_State TEXT,\n",
    "        Fraud_Cybercrime_Categories TEXT,\n",
    "        Solicitation_Method TEXT,\n",
    "        Gender TEXT,\n",
    "        Language_Correspondence TEXT,\n",
    "        Victim_Age_Range TEXT,\n",
    "        Complaint_Type TEXT,\n",
    "        Number_of_Victims INTEGER,\n",
    "        Dollar_Loss REAL\n",
    "    )\n",
    "\"\"\")\n",
    "conn.commit()  # Save changes"
   ]
  },
  {
   "cell_type": "code",
   "execution_count": 32,
   "id": "ed8c8bb8-b2cf-44ff-b131-53558f10f82a",
   "metadata": {},
   "outputs": [
    {
     "data": {
      "text/plain": [
       "327560"
      ]
     },
     "execution_count": 32,
     "metadata": {},
     "output_type": "execute_result"
    }
   ],
   "source": [
    "# Inserting data(df) into the database\n",
    "df.to_sql('fraud_reports', conn, if_exists='replace', index=False)"
   ]
  },
  {
   "cell_type": "code",
   "execution_count": 33,
   "id": "6947b8af-400e-42fe-a923-5de499caaab5",
   "metadata": {},
   "outputs": [],
   "source": [
    "# Commit and close the connection\n",
    "conn.commit()\n",
    "conn.close()"
   ]
  },
  {
   "cell_type": "code",
   "execution_count": 39,
   "id": "ed1efbf5-b95a-4075-9ff2-4ad31f3b281b",
   "metadata": {},
   "outputs": [],
   "source": [
    "df.to_csv('Resources/cleaned_data.csv', index=False)"
   ]
  }
 ],
 "metadata": {
  "kernelspec": {
   "display_name": "Python 3 (ipykernel)",
   "language": "python",
   "name": "python3"
  },
  "language_info": {
   "codemirror_mode": {
    "name": "ipython",
    "version": 3
   },
   "file_extension": ".py",
   "mimetype": "text/x-python",
   "name": "python",
   "nbconvert_exporter": "python",
   "pygments_lexer": "ipython3",
   "version": "3.12.3"
  }
 },
 "nbformat": 4,
 "nbformat_minor": 5
}
