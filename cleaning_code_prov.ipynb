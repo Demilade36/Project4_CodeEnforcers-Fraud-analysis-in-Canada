{
 "cells": [
  {
   "cell_type": "code",
   "execution_count": 26,
   "id": "d94f4c8f-190d-416d-ac1c-1f9ef6cccb06",
   "metadata": {},
   "outputs": [],
   "source": [
    "# Import necessary libraries\n",
    "import pandas as pd\n",
    "\n",
    "# Load your dataset (replace 'your_data.csv' with your actual file)\n",
    "df = pd.read_csv('Resources/cafc-open-gouv-database-2021-01-01-to-2025-03-31-extracted-2025-04-01.csv')"
   ]
  },
  {
   "cell_type": "code",
   "execution_count": 27,
   "id": "425c20f4-b938-48f7-98fc-48a9dfed2cbc",
   "metadata": {},
   "outputs": [
    {
     "data": {
      "text/plain": [
       "Index(['Numéro d'identification / Number ID', 'Date Received / Date reçue',\n",
       "       'Complaint Received Type', 'Type de plainte reçue', 'Country', 'Pays',\n",
       "       'Province/State', 'Province/État',\n",
       "       'Fraud and Cybercrime Thematic Categories',\n",
       "       'Catégories thématiques sur la fraude et la cybercriminalité',\n",
       "       'Solicitation Method', 'Méthode de sollicitation', 'Gender', 'Genre',\n",
       "       'Language of Correspondence', 'Langue de correspondance',\n",
       "       'Victim Age Range / Tranche d'âge des victimes', 'Complaint Type',\n",
       "       'Type de plainte', 'Number of Victims / Nombre de victimes',\n",
       "       'Dollar Loss /pertes financières'],\n",
       "      dtype='object')"
      ]
     },
     "execution_count": 27,
     "metadata": {},
     "output_type": "execute_result"
    }
   ],
   "source": [
    "df.columns"
   ]
  },
  {
   "cell_type": "code",
   "execution_count": 28,
   "id": "559a475b-227b-4748-8d93-c490a83b7928",
   "metadata": {},
   "outputs": [
    {
     "data": {
      "text/plain": [
       "Numéro d'identification / Number ID                             int64\n",
       "Date Received / Date reçue                                     object\n",
       "Complaint Received Type                                        object\n",
       "Type de plainte reçue                                          object\n",
       "Country                                                        object\n",
       "Pays                                                           object\n",
       "Province/State                                                 object\n",
       "Province/État                                                  object\n",
       "Fraud and Cybercrime Thematic Categories                       object\n",
       "Catégories thématiques sur la fraude et la cybercriminalité    object\n",
       "Solicitation Method                                            object\n",
       "Méthode de sollicitation                                       object\n",
       "Gender                                                         object\n",
       "Genre                                                          object\n",
       "Language of Correspondence                                     object\n",
       "Langue de correspondance                                       object\n",
       "Victim Age Range / Tranche d'âge des victimes                  object\n",
       "Complaint Type                                                 object\n",
       "Type de plainte                                                object\n",
       "Number of Victims / Nombre de victimes                          int64\n",
       "Dollar Loss /pertes financières                                object\n",
       "dtype: object"
      ]
     },
     "execution_count": 28,
     "metadata": {},
     "output_type": "execute_result"
    }
   ],
   "source": [
    "df.dtypes"
   ]
  },
  {
   "cell_type": "code",
   "execution_count": 29,
   "id": "7a6d2112-e80d-43ed-abfd-ab5bc75de7b0",
   "metadata": {},
   "outputs": [],
   "source": [
    "# Drop unnecessary columns\n",
    "df = df.drop(columns=[\n",
    "    'Type de plainte reçue', 'Pays', 'Province/État',\n",
    "    'Catégories thématiques sur la fraude et la cybercriminalité',\n",
    "    'Méthode de sollicitation', 'Genre', 'Langue de correspondance', 'Type de plainte'\n",
    "])"
   ]
  },
  {
   "cell_type": "code",
   "execution_count": 30,
   "id": "19dffac8-a83d-4596-b4e8-8faebb82ede0",
   "metadata": {},
   "outputs": [],
   "source": [
    "df['Dollar Loss /pertes financières'] = (\n",
    "    df['Dollar Loss /pertes financières']\n",
    "    .replace('[$,]', '', regex=True)  # No need for backslash before $\n",
    "    .astype(float)\n",
    ")"
   ]
  },
  {
   "cell_type": "code",
   "execution_count": 31,
   "id": "7c47e12d-4ec2-431f-8acc-df8bf97c9b93",
   "metadata": {},
   "outputs": [
    {
     "data": {
      "text/html": [
       "<div>\n",
       "<style scoped>\n",
       "    .dataframe tbody tr th:only-of-type {\n",
       "        vertical-align: middle;\n",
       "    }\n",
       "\n",
       "    .dataframe tbody tr th {\n",
       "        vertical-align: top;\n",
       "    }\n",
       "\n",
       "    .dataframe thead th {\n",
       "        text-align: right;\n",
       "    }\n",
       "</style>\n",
       "<table border=\"1\" class=\"dataframe\">\n",
       "  <thead>\n",
       "    <tr style=\"text-align: right;\">\n",
       "      <th></th>\n",
       "      <th>Numéro d'identification / Number ID</th>\n",
       "      <th>Date Received / Date reçue</th>\n",
       "      <th>Complaint Received Type</th>\n",
       "      <th>Country</th>\n",
       "      <th>Province/State</th>\n",
       "      <th>Fraud and Cybercrime Thematic Categories</th>\n",
       "      <th>Solicitation Method</th>\n",
       "      <th>Gender</th>\n",
       "      <th>Language of Correspondence</th>\n",
       "      <th>Victim Age Range / Tranche d'âge des victimes</th>\n",
       "      <th>Complaint Type</th>\n",
       "      <th>Number of Victims / Nombre de victimes</th>\n",
       "      <th>Dollar Loss /pertes financières</th>\n",
       "    </tr>\n",
       "  </thead>\n",
       "  <tbody>\n",
       "    <tr>\n",
       "      <th>0</th>\n",
       "      <td>1</td>\n",
       "      <td>2021-01-02</td>\n",
       "      <td>CAFC Website</td>\n",
       "      <td>Canada</td>\n",
       "      <td>Saskatchewan</td>\n",
       "      <td>Merchandise</td>\n",
       "      <td>Other/unknown</td>\n",
       "      <td>Not Available</td>\n",
       "      <td>Not Available</td>\n",
       "      <td>'Not Available / non disponible</td>\n",
       "      <td>Attempt</td>\n",
       "      <td>0</td>\n",
       "      <td>0.00</td>\n",
       "    </tr>\n",
       "    <tr>\n",
       "      <th>1</th>\n",
       "      <td>2</td>\n",
       "      <td>2021-01-02</td>\n",
       "      <td>CAFC Website</td>\n",
       "      <td>Not Specified</td>\n",
       "      <td>Not Specified</td>\n",
       "      <td>Merchandise</td>\n",
       "      <td>Internet</td>\n",
       "      <td>Not Available</td>\n",
       "      <td>Not Available</td>\n",
       "      <td>'Not Available / non disponible</td>\n",
       "      <td>Victim</td>\n",
       "      <td>1</td>\n",
       "      <td>1000.00</td>\n",
       "    </tr>\n",
       "    <tr>\n",
       "      <th>2</th>\n",
       "      <td>3</td>\n",
       "      <td>2021-01-02</td>\n",
       "      <td>CAFC Website</td>\n",
       "      <td>Canada</td>\n",
       "      <td>Quebec</td>\n",
       "      <td>Identity Fraud</td>\n",
       "      <td>Other/unknown</td>\n",
       "      <td>Male</td>\n",
       "      <td>French</td>\n",
       "      <td>'40 - 49</td>\n",
       "      <td>Victim</td>\n",
       "      <td>1</td>\n",
       "      <td>0.00</td>\n",
       "    </tr>\n",
       "    <tr>\n",
       "      <th>3</th>\n",
       "      <td>4</td>\n",
       "      <td>2021-01-02</td>\n",
       "      <td>CAFC Website</td>\n",
       "      <td>Canada</td>\n",
       "      <td>Saskatchewan</td>\n",
       "      <td>Phishing</td>\n",
       "      <td>Email</td>\n",
       "      <td>Male</td>\n",
       "      <td>English</td>\n",
       "      <td>'30 - 39</td>\n",
       "      <td>Victim</td>\n",
       "      <td>1</td>\n",
       "      <td>0.00</td>\n",
       "    </tr>\n",
       "    <tr>\n",
       "      <th>4</th>\n",
       "      <td>5</td>\n",
       "      <td>2021-01-02</td>\n",
       "      <td>CAFC Website</td>\n",
       "      <td>Canada</td>\n",
       "      <td>Saskatchewan</td>\n",
       "      <td>Merchandise</td>\n",
       "      <td>Other/unknown</td>\n",
       "      <td>Male</td>\n",
       "      <td>Not Available</td>\n",
       "      <td>'60 - 69</td>\n",
       "      <td>Victim</td>\n",
       "      <td>1</td>\n",
       "      <td>222.73</td>\n",
       "    </tr>\n",
       "  </tbody>\n",
       "</table>\n",
       "</div>"
      ],
      "text/plain": [
       "   Numéro d'identification / Number ID Date Received / Date reçue  \\\n",
       "0                                    1                 2021-01-02   \n",
       "1                                    2                 2021-01-02   \n",
       "2                                    3                 2021-01-02   \n",
       "3                                    4                 2021-01-02   \n",
       "4                                    5                 2021-01-02   \n",
       "\n",
       "  Complaint Received Type        Country Province/State  \\\n",
       "0            CAFC Website         Canada   Saskatchewan   \n",
       "1            CAFC Website  Not Specified  Not Specified   \n",
       "2            CAFC Website         Canada         Quebec   \n",
       "3            CAFC Website         Canada   Saskatchewan   \n",
       "4            CAFC Website         Canada   Saskatchewan   \n",
       "\n",
       "  Fraud and Cybercrime Thematic Categories Solicitation Method         Gender  \\\n",
       "0                              Merchandise       Other/unknown  Not Available   \n",
       "1                              Merchandise            Internet  Not Available   \n",
       "2                           Identity Fraud       Other/unknown           Male   \n",
       "3                                 Phishing               Email           Male   \n",
       "4                              Merchandise       Other/unknown           Male   \n",
       "\n",
       "  Language of Correspondence Victim Age Range / Tranche d'âge des victimes  \\\n",
       "0              Not Available               'Not Available / non disponible   \n",
       "1              Not Available               'Not Available / non disponible   \n",
       "2                     French                                      '40 - 49   \n",
       "3                    English                                      '30 - 39   \n",
       "4              Not Available                                      '60 - 69   \n",
       "\n",
       "  Complaint Type  Number of Victims / Nombre de victimes  \\\n",
       "0        Attempt                                       0   \n",
       "1         Victim                                       1   \n",
       "2         Victim                                       1   \n",
       "3         Victim                                       1   \n",
       "4         Victim                                       1   \n",
       "\n",
       "   Dollar Loss /pertes financières  \n",
       "0                             0.00  \n",
       "1                          1000.00  \n",
       "2                             0.00  \n",
       "3                             0.00  \n",
       "4                           222.73  "
      ]
     },
     "execution_count": 31,
     "metadata": {},
     "output_type": "execute_result"
    }
   ],
   "source": [
    "# Fill NA values with 'Unknown'\n",
    "df = df.fillna('Unknown')\n",
    "\n",
    "# Display the first few rows of the cleaned dataset\n",
    "df.head()"
   ]
  },
  {
   "cell_type": "code",
   "execution_count": 32,
   "id": "1d79fbae-e3cb-47b8-a0a4-49683956bd7e",
   "metadata": {},
   "outputs": [
    {
     "name": "stdout",
     "output_type": "stream",
     "text": [
      "<class 'pandas.core.frame.DataFrame'>\n",
      "RangeIndex: 328649 entries, 0 to 328648\n",
      "Data columns (total 13 columns):\n",
      " #   Column                                         Non-Null Count   Dtype  \n",
      "---  ------                                         --------------   -----  \n",
      " 0   Numéro d'identification / Number ID            328649 non-null  int64  \n",
      " 1   Date Received / Date reçue                     328649 non-null  object \n",
      " 2   Complaint Received Type                        328649 non-null  object \n",
      " 3   Country                                        328649 non-null  object \n",
      " 4   Province/State                                 328649 non-null  object \n",
      " 5   Fraud and Cybercrime Thematic Categories       328649 non-null  object \n",
      " 6   Solicitation Method                            328649 non-null  object \n",
      " 7   Gender                                         328649 non-null  object \n",
      " 8   Language of Correspondence                     328649 non-null  object \n",
      " 9   Victim Age Range / Tranche d'âge des victimes  328649 non-null  object \n",
      " 10  Complaint Type                                 328649 non-null  object \n",
      " 11  Number of Victims / Nombre de victimes         328649 non-null  int64  \n",
      " 12  Dollar Loss /pertes financières                328649 non-null  float64\n",
      "dtypes: float64(1), int64(2), object(10)\n",
      "memory usage: 32.6+ MB\n"
     ]
    }
   ],
   "source": [
    "df.info()"
   ]
  },
  {
   "cell_type": "code",
   "execution_count": 33,
   "id": "ac46b24b-3c48-48da-bd88-1f57e30f1ef8",
   "metadata": {},
   "outputs": [],
   "source": [
    "df = df.drop(df[df['Complaint Type'] == 'Incomplete'].index)"
   ]
  },
  {
   "cell_type": "code",
   "execution_count": 34,
   "id": "5fd3e0f8-282c-4d32-8cf5-1673b0a6365d",
   "metadata": {},
   "outputs": [
    {
     "name": "stdout",
     "output_type": "stream",
     "text": [
      "<class 'pandas.core.frame.DataFrame'>\n",
      "Index: 328176 entries, 0 to 328648\n",
      "Data columns (total 13 columns):\n",
      " #   Column                                         Non-Null Count   Dtype  \n",
      "---  ------                                         --------------   -----  \n",
      " 0   Numéro d'identification / Number ID            328176 non-null  int64  \n",
      " 1   Date Received / Date reçue                     328176 non-null  object \n",
      " 2   Complaint Received Type                        328176 non-null  object \n",
      " 3   Country                                        328176 non-null  object \n",
      " 4   Province/State                                 328176 non-null  object \n",
      " 5   Fraud and Cybercrime Thematic Categories       328176 non-null  object \n",
      " 6   Solicitation Method                            328176 non-null  object \n",
      " 7   Gender                                         328176 non-null  object \n",
      " 8   Language of Correspondence                     328176 non-null  object \n",
      " 9   Victim Age Range / Tranche d'âge des victimes  328176 non-null  object \n",
      " 10  Complaint Type                                 328176 non-null  object \n",
      " 11  Number of Victims / Nombre de victimes         328176 non-null  int64  \n",
      " 12  Dollar Loss /pertes financières                328176 non-null  float64\n",
      "dtypes: float64(1), int64(2), object(10)\n",
      "memory usage: 35.1+ MB\n"
     ]
    }
   ],
   "source": [
    "df.info()"
   ]
  },
  {
   "cell_type": "code",
   "execution_count": 35,
   "id": "c6380db0-4abf-432c-9bda-e462e38226e3",
   "metadata": {},
   "outputs": [],
   "source": [
    "df = df.drop(df[(df['Complaint Type'] == 'Unknown') & \n",
    "                (df['Fraud and Cybercrime Thematic Categories'] == 'Unknown')].index)"
   ]
  },
  {
   "cell_type": "code",
   "execution_count": 36,
   "id": "c67abd47-a967-4921-906c-e3b3fdc1d9f7",
   "metadata": {},
   "outputs": [
    {
     "name": "stdout",
     "output_type": "stream",
     "text": [
      "<class 'pandas.core.frame.DataFrame'>\n",
      "Index: 327560 entries, 0 to 328648\n",
      "Data columns (total 13 columns):\n",
      " #   Column                                         Non-Null Count   Dtype  \n",
      "---  ------                                         --------------   -----  \n",
      " 0   Numéro d'identification / Number ID            327560 non-null  int64  \n",
      " 1   Date Received / Date reçue                     327560 non-null  object \n",
      " 2   Complaint Received Type                        327560 non-null  object \n",
      " 3   Country                                        327560 non-null  object \n",
      " 4   Province/State                                 327560 non-null  object \n",
      " 5   Fraud and Cybercrime Thematic Categories       327560 non-null  object \n",
      " 6   Solicitation Method                            327560 non-null  object \n",
      " 7   Gender                                         327560 non-null  object \n",
      " 8   Language of Correspondence                     327560 non-null  object \n",
      " 9   Victim Age Range / Tranche d'âge des victimes  327560 non-null  object \n",
      " 10  Complaint Type                                 327560 non-null  object \n",
      " 11  Number of Victims / Nombre de victimes         327560 non-null  int64  \n",
      " 12  Dollar Loss /pertes financières                327560 non-null  float64\n",
      "dtypes: float64(1), int64(2), object(10)\n",
      "memory usage: 35.0+ MB\n"
     ]
    }
   ],
   "source": [
    "df.info()"
   ]
  },
  {
   "cell_type": "code",
   "execution_count": 37,
   "id": "8c32ef7c-fe35-482b-9149-f324c5a77988",
   "metadata": {},
   "outputs": [],
   "source": [
    "df = df.rename(columns={\n",
    "    \"Numéro d'identification / Number ID\": \"Number ID\",\n",
    "    \"Date Received / Date reçue\": \"Date Received\",\n",
    "    \"Victim Age Range / Tranche d'âge des victimes\": \"Victim Age Range\",\n",
    "    \"Number of Victims / Nombre de victimes\": \"Number of Victims\",\n",
    "    \"Dollar Loss /pertes financières\": \"Dollar Loss\"    \n",
    "})\n"
   ]
  },
  {
   "cell_type": "code",
   "execution_count": 38,
   "id": "42778ee5-76ab-470b-b97c-e49b6f54d469",
   "metadata": {},
   "outputs": [
    {
     "name": "stdout",
     "output_type": "stream",
     "text": [
      "<class 'pandas.core.frame.DataFrame'>\n",
      "Index: 327560 entries, 0 to 328648\n",
      "Data columns (total 13 columns):\n",
      " #   Column                                    Non-Null Count   Dtype  \n",
      "---  ------                                    --------------   -----  \n",
      " 0   Number ID                                 327560 non-null  int64  \n",
      " 1   Date Received                             327560 non-null  object \n",
      " 2   Complaint Received Type                   327560 non-null  object \n",
      " 3   Country                                   327560 non-null  object \n",
      " 4   Province/State                            327560 non-null  object \n",
      " 5   Fraud and Cybercrime Thematic Categories  327560 non-null  object \n",
      " 6   Solicitation Method                       327560 non-null  object \n",
      " 7   Gender                                    327560 non-null  object \n",
      " 8   Language of Correspondence                327560 non-null  object \n",
      " 9   Victim Age Range                          327560 non-null  object \n",
      " 10  Complaint Type                            327560 non-null  object \n",
      " 11  Number of Victims                         327560 non-null  int64  \n",
      " 12  Dollar Loss                               327560 non-null  float64\n",
      "dtypes: float64(1), int64(2), object(10)\n",
      "memory usage: 35.0+ MB\n"
     ]
    }
   ],
   "source": [
    "df.info()"
   ]
  },
  {
   "cell_type": "code",
   "execution_count": 39,
   "id": "ed1efbf5-b95a-4075-9ff2-4ad31f3b281b",
   "metadata": {},
   "outputs": [],
   "source": [
    "df.to_csv('Resources/cleaned_data.csv', index=False)"
   ]
  }
 ],
 "metadata": {
  "kernelspec": {
   "display_name": "Python 3 (ipykernel)",
   "language": "python",
   "name": "python3"
  },
  "language_info": {
   "codemirror_mode": {
    "name": "ipython",
    "version": 3
   },
   "file_extension": ".py",
   "mimetype": "text/x-python",
   "name": "python",
   "nbconvert_exporter": "python",
   "pygments_lexer": "ipython3",
   "version": "3.12.3"
  }
 },
 "nbformat": 4,
 "nbformat_minor": 5
}
